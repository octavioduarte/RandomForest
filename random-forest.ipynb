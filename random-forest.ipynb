{
 "cells": [
  {
   "cell_type": "markdown",
   "id": "2cc2a193-d6f6-485d-ba3d-d27169ffdb11",
   "metadata": {},
   "source": [
    "## Utilizando RandomForest para predições de churn \n",
    "\n",
    "<i>Churn é uma métrica utilizada para verificar clientes que deixaram de utilizar determinado serviço</i>"
   ]
  },
  {
   "cell_type": "code",
   "execution_count": 1,
   "id": "e83bb4b2-d8b7-4580-ab0f-2aa4c769478c",
   "metadata": {},
   "outputs": [],
   "source": [
    "!pip install -q -U watermark\n",
    "\n",
    "\n",
    "# pip        >  gerenciador de pacotes python\n",
    "# install    >  comando para instalar um novo pacote\n",
    "# -q         >  para que os eventos durante instalação não sejam exibidos (-q = quiet)\n",
    "# -U         >  para que toda a vez em que o processo de instalação ocorrer o pip busque a ultima versão do pacote\n",
    "# watermark  >  pacote python para exibir versão, data da execução e informações do hardware"
   ]
  },
  {
   "cell_type": "markdown",
   "id": "98d63fe7-e801-44da-9fa7-e101b3f0093e",
   "metadata": {},
   "source": [
    "#### Importação de pacotes"
   ]
  },
  {
   "cell_type": "code",
   "execution_count": 2,
   "id": "b4de6cb8-8725-4228-aa48-85e4c14d7bbc",
   "metadata": {},
   "outputs": [],
   "source": [
    "import joblib\n",
    "import sklearn\n",
    "import pandas as pd\n",
    "import numpy as np\n",
    "import matplotlib.pyplot as plt\n",
    "import seaborn as sns\n",
    "from sklearn.model_selection import train_test_split, cross_val_score, GridSearchCV\n",
    "from sklearn.preprocessing import StandardScaler, OneHotEncoder\n",
    "from sklearn.ensemble import RandomForestClassifier\n",
    "from sklearn.metrics import classification_report, accuracy_score"
   ]
  },
  {
   "cell_type": "markdown",
   "id": "597fadf9-2820-4a77-adbe-33957fd7ae54",
   "metadata": {},
   "source": [
    "#### Configuração para tamanho de gráficos"
   ]
  },
  {
   "cell_type": "code",
   "execution_count": null,
   "id": "e5e23360-d9ea-4c58-9990-480827a46daa",
   "metadata": {},
   "outputs": [],
   "source": [
    "sns.set(style=\"whitegrid\")\n",
    "plt.rcParams['figure.figsize'] = [6, 5]"
   ]
  },
  {
   "cell_type": "markdown",
   "id": "8811cb42-bbb4-43e1-b30e-7ad37f3bf957",
   "metadata": {},
   "source": [
    "#### Determinando dados a serem utilizados pelo pacote watermark"
   ]
  },
  {
   "cell_type": "code",
   "execution_count": 3,
   "id": "6ebf47de-6112-4454-8fa5-82dae46a4ed9",
   "metadata": {},
   "outputs": [
    {
     "name": "stdout",
     "output_type": "stream",
     "text": [
      "Author: Octávio Duarte\n",
      "\n"
     ]
    }
   ],
   "source": [
    "%reload_ext watermark\n",
    "%watermark -a \"Octávio Duarte\""
   ]
  },
  {
   "cell_type": "markdown",
   "id": "e50cac0e-a8be-4ad0-805b-4389346c353c",
   "metadata": {},
   "source": [
    "#### Carregando os dados"
   ]
  },
  {
   "cell_type": "code",
   "execution_count": 5,
   "id": "a228e209-059e-436b-aa04-4f1ca71ae798",
   "metadata": {},
   "outputs": [],
   "source": [
    "base = pd.read_csv('dataset.csv')"
   ]
  },
  {
   "cell_type": "code",
   "execution_count": 7,
   "id": "16a3b535-d824-4174-b7a9-01e2c5ebb12b",
   "metadata": {},
   "outputs": [
    {
     "name": "stdout",
     "output_type": "stream",
     "text": [
      "<class 'pandas.core.frame.DataFrame'>\n",
      "RangeIndex: 1000 entries, 0 to 999\n",
      "Data columns (total 7 columns):\n",
      " #   Column             Non-Null Count  Dtype  \n",
      "---  ------             --------------  -----  \n",
      " 0   Idade              1000 non-null   int64  \n",
      " 1   UsoMensal          1000 non-null   int64  \n",
      " 2   Plano              1000 non-null   object \n",
      " 3   SatisfacaoCliente  1000 non-null   int64  \n",
      " 4   TempoContrato      1000 non-null   object \n",
      " 5   ValorMensal        1000 non-null   float64\n",
      " 6   Churn              1000 non-null   int64  \n",
      "dtypes: float64(1), int64(4), object(2)\n",
      "memory usage: 54.8+ KB\n"
     ]
    }
   ],
   "source": [
    "base.info()"
   ]
  }
 ],
 "metadata": {
  "kernelspec": {
   "display_name": "Python 3 (ipykernel)",
   "language": "python",
   "name": "python3"
  },
  "language_info": {
   "codemirror_mode": {
    "name": "ipython",
    "version": 3
   },
   "file_extension": ".py",
   "mimetype": "text/x-python",
   "name": "python",
   "nbconvert_exporter": "python",
   "pygments_lexer": "ipython3",
   "version": "3.11.7"
  }
 },
 "nbformat": 4,
 "nbformat_minor": 5
}
